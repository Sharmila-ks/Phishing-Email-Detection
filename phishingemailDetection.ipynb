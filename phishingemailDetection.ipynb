{
  "nbformat": 4,
  "nbformat_minor": 0,
  "metadata": {
    "colab": {
      "provenance": [],
      "authorship_tag": "ABX9TyM2WSQ3j2zdhwxYnYE4jpS9",
      "include_colab_link": true
    },
    "kernelspec": {
      "name": "python3",
      "display_name": "Python 3"
    },
    "language_info": {
      "name": "python"
    }
  },
  "cells": [
    {
      "cell_type": "markdown",
      "metadata": {
        "id": "view-in-github",
        "colab_type": "text"
      },
      "source": [
        "<a href=\"https://colab.research.google.com/github/Sharmila-ks/Phishing-Email-Detection/blob/main/phishingemailDetection.ipynb\" target=\"_parent\"><img src=\"https://colab.research.google.com/assets/colab-badge.svg\" alt=\"Open In Colab\"/></a>"
      ]
    },
    {
      "cell_type": "code",
      "source": [
        "import pandas as pd\n",
        "from sklearn.feature_extraction.text import TfidfVectorizer\n",
        "from sklearn.naive_bayes import MultinomialNB\n",
        "from sklearn.model_selection import train_test_split\n",
        "from sklearn.metrics import accuracy_score\n",
        "from sklearn.metrics import classification_report, confusion_matrix\n",
        "\n",
        "# Load small dataset\n",
        "data = pd.read_csv(\"phishing_email.csv\").sample(100)  # Only 100 rows\n",
        "data.rename(columns={'text_combined':'email_text'}, inplace=True)\n",
        "# Text preprocessing (lowercase, remove punctuation)\n",
        "data['cleaned_text'] = data['email_text'].str.lower().str.replace('[^\\w\\s]', '')\n",
        "\n",
        "# Convert text to numbers\n",
        "vectorizer = TfidfVectorizer(max_features=5000, stop_words='english', ngram_range=(1,2))\n",
        "X = vectorizer.fit_transform(data['cleaned_text'])\n",
        "y = data['label']\n",
        "\n",
        "# Train model\n",
        "X_train, X_test, y_train, y_test = train_test_split(X, y, test_size=0.2, random_state=42)\n",
        "model = MultinomialNB()\n",
        "model.fit(X_train, y_train)\n",
        "\n",
        "# Test model\n",
        "y_pred = model.predict(X_test)\n",
        "print(\"Accuracy:\", accuracy_score(y_test, y_pred))\n",
        "\n",
        "# Print detailed performance metrics\n",
        "print(classification_report(y_test, y_pred))\n",
        "\n",
        "# Print confusion matrix\n",
        "print(\"Confusion Matrix:\\n\", confusion_matrix(y_test, y_pred))"
      ],
      "metadata": {
        "collapsed": true,
        "id": "dQcEbXY333QE"
      },
      "execution_count": null,
      "outputs": []
    },
    {
      "cell_type": "code",
      "source": [
        "def predict_email(email_text):\n",
        "    email_cleaned = email_text.lower().translate(str.maketrans('', '', string.punctuation))\n",
        "    email_vectorized = vectorizer.transform([email_cleaned])\n",
        "    prediction = model.predict(email_vectorized)[0]\n",
        "    return \"Phishing Email\" if prediction == 1 else \"Legitimate Email\"\n",
        "\n",
        "# Example test\n",
        "# Get email text as input from the user\n",
        "user_input = input(\"Please enter the email text for phishing detection: \")\n",
        "\n",
        "# Display the result\n",
        "print(predict_email(user_input))"
      ],
      "metadata": {
        "collapsed": true,
        "id": "HNFTqNNd5eRy"
      },
      "execution_count": null,
      "outputs": []
    }
  ]
}